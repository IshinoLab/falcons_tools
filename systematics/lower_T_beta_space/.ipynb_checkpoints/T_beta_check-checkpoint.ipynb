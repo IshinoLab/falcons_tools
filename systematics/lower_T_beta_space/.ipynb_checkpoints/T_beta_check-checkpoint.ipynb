{
 "cells": [
  {
   "cell_type": "code",
   "execution_count": 1,
   "id": "939f1b99-70c0-47cd-8c10-50d994ccecbc",
   "metadata": {},
   "outputs": [
    {
     "data": {
      "text/plain": [
       "gen_scan_parameter_space (generic function with 2 methods)"
      ]
     },
     "execution_count": 1,
     "metadata": {},
     "output_type": "execute_result"
    }
   ],
   "source": [
    "include(\"/gpfs/home/cmb/yusuket/program/scan_strategy/optimisation2/functions/spin_characterisation_w_HWP.jl\")"
   ]
  },
  {
   "cell_type": "code",
   "execution_count": 31,
   "id": "cd385a6d-c317-4fd5-8686-0e4e23deb01b",
   "metadata": {},
   "outputs": [
    {
     "data": {
      "text/plain": [
       "10-element Vector{Float64}:\n",
       "  1.0\n",
       "  2.0\n",
       "  3.0\n",
       "  4.0\n",
       "  5.0\n",
       "  6.0\n",
       "  7.0\n",
       "  8.0\n",
       "  9.0\n",
       " 10.0"
      ]
     },
     "execution_count": 31,
     "metadata": {},
     "output_type": "execute_result"
    }
   ],
   "source": [
    "alpha = [45, 47.5, 50]\n",
    "beta = 95 .- alpha\n",
    "FWHM = 17.9 / 60\n",
    "dtheta = deg2rad(FWHM)\n",
    "hwprpm = 61\n",
    "f_hwp = hwprpm/60\n",
    "N = 1\n",
    "#T_alpha_min = @. 2π*N*sind(alpha+beta)/dtheta/f_hwp/60\n",
    "T_alpha = [1.0, 192.348/60, 10, 100] .* 3600 # sec\n",
    "\n",
    "A(a,b,c) = range(a,stop=b,length=c)\n",
    "A(1,10,10) |> collect"
   ]
  },
  {
   "cell_type": "code",
   "execution_count": 35,
   "id": "2479cd57-88db-4c2d-8983-8b2d93f52f01",
   "metadata": {},
   "outputs": [
    {
     "data": {
      "text/plain": [
       "100-element Vector{Float64}:\n",
       "  16.883713216427246\n",
       "  18.656079749594646\n",
       "  20.42844628276205\n",
       "  22.20081281592945\n",
       "  23.973179349096853\n",
       "  25.745545882264253\n",
       "  27.517912415431656\n",
       "  29.290278948599056\n",
       "  31.06264548176646\n",
       "  32.83501201493386\n",
       "  34.607378548101266\n",
       "  36.379745081268666\n",
       "  38.152111614436066\n",
       "   ⋮\n",
       " 172.8519681351586\n",
       " 174.624334668326\n",
       " 176.3967012014934\n",
       " 178.1690677346608\n",
       " 179.9414342678282\n",
       " 181.7138008009956\n",
       " 183.486167334163\n",
       " 185.2585338673304\n",
       " 187.0309004004978\n",
       " 188.8032669336652\n",
       " 190.5756334668326\n",
       " 192.348"
      ]
     },
     "execution_count": 35,
     "metadata": {},
     "output_type": "execute_result"
    }
   ],
   "source": [
    "include(\"/gpfs/home/cmb/yusuket/program/scan_strategy/optimisation2/functions/spin_characterisation_w_HWP.jl\")\n",
    "T_beta_grid(a,b,c) = range(a,stop=b,length=c)\n",
    "\n",
    "noutput = 100\n",
    "#idx = parse(Int64, ARGS[1])\n",
    "alpha = 45#parse(Float64, ARGS[2])\n",
    "T_alpha = 192.348*60#parse(Float64, ARGS[3]) #sec\n",
    "#hwprpm = parse(Float64, ARGS[4])\n",
    "#num_of_HWP_rotation = parse(Float64, ARGS[5])\n",
    "alpha_plus_beta = 95\n",
    "beta = alpha_plus_beta - alpha\n",
    "\n",
    "#[1.0, 192.348/60, 10, 100] .* 3600 # sec\n",
    "T_beta_lower = T_beta_lim(alpha, beta, T_alpha, dtheta, f_hwp, N)\n",
    "T_beta = T_beta_grid(T_beta_lower, T_alpha, noutput)\n",
    "T_beta/60 |> collect"
   ]
  },
  {
   "cell_type": "code",
   "execution_count": 28,
   "id": "d72790c6-cdf7-46d7-a0a2-d0b3319b5d61",
   "metadata": {},
   "outputs": [
    {
     "name": "stdout",
     "output_type": "stream",
     "text": [
      "\n",
      "Number of rotations     : 1\n",
      "HWP             [ rpm ] : 61\n",
      "alpha           [ deg ] : 45.0\n",
      "beta            [ deg ] : 50.0\n",
      "T_alpha         [ hrs ] : 1.0\n",
      "T_beta          [ min.] : 22.565442513520015\n",
      "velosity        [deg/s] : 0.3033055555555555\n",
      "tau             [  s  ] : 0.9836065573770492\n",
      "\n",
      "Number of rotations     : 1\n",
      "HWP             [ rpm ] : 61\n",
      "alpha           [ deg ] : 45.0\n",
      "beta            [ deg ] : 50.0\n",
      "T_alpha         [ hrs ] : 3.2058000000000004\n",
      "T_beta          [ min.] : 16.883713216427246\n",
      "velosity        [deg/s] : 0.3033055555555555\n",
      "tau             [  s  ] : 0.9836065573770492\n",
      "\n",
      "Number of rotations     : 1\n",
      "HWP             [ rpm ] : 61\n",
      "alpha           [ deg ] : 45.0\n",
      "beta            [ deg ] : 50.0\n",
      "T_alpha         [ hrs ] : 10.0\n",
      "T_beta          [ min.] : 15.668542024989778\n",
      "velosity        [deg/s] : 0.3033055555555555\n",
      "tau             [  s  ] : 0.9836065573770492\n",
      "\n",
      "Number of rotations     : 1\n",
      "HWP             [ rpm ] : 61\n",
      "alpha           [ deg ] : 45.0\n",
      "beta            [ deg ] : 50.0\n",
      "T_alpha         [ hrs ] : 100.0\n",
      "T_beta          [ min.] : 15.203851596513973\n",
      "velosity        [deg/s] : 0.30330555555555544\n",
      "tau             [  s  ] : 0.9836065573770494\n",
      "\n",
      "Number of rotations     : 1\n",
      "HWP             [ rpm ] : 61\n",
      "alpha           [ deg ] : 47.5\n",
      "beta            [ deg ] : 47.5\n",
      "T_alpha         [ hrs ] : 1.0\n",
      "T_beta          [ min.] : 21.718047183492224\n",
      "velosity        [deg/s] : 0.3033055555555555\n",
      "tau             [  s  ] : 0.9836065573770492\n",
      "\n",
      "Number of rotations     : 1\n",
      "HWP             [ rpm ] : 61\n",
      "alpha           [ deg ] : 47.5\n",
      "beta            [ deg ] : 47.5\n",
      "T_alpha         [ hrs ] : 3.2058000000000004\n",
      "T_beta          [ min.] : 16.249682675055997\n",
      "velosity        [deg/s] : 0.3033055555555554\n",
      "tau             [  s  ] : 0.9836065573770496\n",
      "\n",
      "Number of rotations     : 1\n",
      "HWP             [ rpm ] : 61\n",
      "alpha           [ deg ] : 47.5\n",
      "beta            [ deg ] : 47.5\n",
      "T_alpha         [ hrs ] : 10.0\n",
      "T_beta          [ min.] : 15.080144552510994\n",
      "velosity        [deg/s] : 0.30330555555555544\n",
      "tau             [  s  ] : 0.9836065573770494\n",
      "\n",
      "Number of rotations     : 1\n",
      "HWP             [ rpm ] : 61\n",
      "alpha           [ deg ] : 47.5\n",
      "beta            [ deg ] : 47.5\n",
      "T_alpha         [ hrs ] : 100.0\n",
      "T_beta          [ min.] : 14.632904546235551\n",
      "velosity        [deg/s] : 0.3033055555555555\n",
      "tau             [  s  ] : 0.9836065573770492\n",
      "\n",
      "Number of rotations     : 1\n",
      "HWP             [ rpm ] : 61\n",
      "alpha           [ deg ] : 50.0\n",
      "beta            [ deg ] : 45.0\n",
      "T_alpha         [ hrs ] : 1.0\n",
      "T_beta          [ min.] : 20.829310316277546\n",
      "velosity        [deg/s] : 0.3033055555555555\n",
      "tau             [  s  ] : 0.9836065573770492\n",
      "\n",
      "Number of rotations     : 1\n",
      "HWP             [ rpm ] : 61\n",
      "alpha           [ deg ] : 50.0\n",
      "beta            [ deg ] : 45.0\n",
      "T_alpha         [ hrs ] : 3.2058000000000004\n",
      "T_beta          [ min.] : 15.584719939141186\n",
      "velosity        [deg/s] : 0.3033055555555555\n",
      "tau             [  s  ] : 0.9836065573770492\n",
      "\n",
      "Number of rotations     : 1\n",
      "HWP             [ rpm ] : 61\n",
      "alpha           [ deg ] : 50.0\n",
      "beta            [ deg ] : 45.0\n",
      "T_alpha         [ hrs ] : 10.0\n",
      "T_beta          [ min.] : 14.463041167777114\n",
      "velosity        [deg/s] : 0.30330555555555544\n",
      "tau             [  s  ] : 0.9836065573770494\n",
      "\n",
      "Number of rotations     : 1\n",
      "HWP             [ rpm ] : 61\n",
      "alpha           [ deg ] : 50.0\n",
      "beta            [ deg ] : 45.0\n",
      "T_alpha         [ hrs ] : 100.0\n",
      "T_beta          [ min.] : 14.034102930473443\n",
      "velosity        [deg/s] : 0.3033055555555555\n",
      "tau             [  s  ] : 0.9836065573770492\n"
     ]
    }
   ],
   "source": [
    "for i in eachindex(alpha)\n",
    "    for j in eachindex(T_alpha)\n",
    "        omega_prec = rpm2angfreq(period2rpm(T_alpha[j], unit=\"sec\"))\n",
    "        T_spin = T_beta_lim(alpha[i], beta[i], T_alpha[j], dtheta, f_hwp, N)/60\n",
    "        omega_spin = rpm2angfreq(period2rpm(T_spin, unit=\"min\"))\n",
    "        velo = v(alpha[i], beta[i], omega_prec, omega_spin)\n",
    "        tau = FWHM/velo\n",
    "        \n",
    "        #println(\"\\nT_alpha_miminum [ min.] : \", T_alpha_min)\n",
    "        println(\"\\nNumber of rotations     : \", N)\n",
    "        println(\"HWP             [ rpm ] : \", hwprpm)\n",
    "        println(\"alpha           [ deg ] : \", alpha[i])\n",
    "        println(\"beta            [ deg ] : \", beta[i])\n",
    "        println(\"T_alpha         [ hrs ] : \", T_alpha[j]/3600)\n",
    "        println(\"T_beta          [ min.] : \", T_spin)\n",
    "        println(\"velosity        [deg/s] : \", velo)\n",
    "        println(\"tau             [  s  ] : \", tau)\n",
    "    end\n",
    "end"
   ]
  },
  {
   "cell_type": "code",
   "execution_count": null,
   "id": "015f0757-b8cb-4c37-85e3-06097832b900",
   "metadata": {},
   "outputs": [],
   "source": []
  }
 ],
 "metadata": {
  "kernelspec": {
   "display_name": "Julia 1.7.0",
   "language": "julia",
   "name": "julia-1.7"
  },
  "language_info": {
   "file_extension": ".jl",
   "mimetype": "application/julia",
   "name": "julia",
   "version": "1.7.0"
  }
 },
 "nbformat": 4,
 "nbformat_minor": 5
}
