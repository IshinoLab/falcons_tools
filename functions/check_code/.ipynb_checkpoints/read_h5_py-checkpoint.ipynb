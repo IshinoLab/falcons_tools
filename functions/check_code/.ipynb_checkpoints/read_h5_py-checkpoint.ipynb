{
 "cells": [
  {
   "cell_type": "code",
   "execution_count": 5,
   "id": "4ee1b61e-08e0-4cfc-88cb-9ab819a8a808",
   "metadata": {},
   "outputs": [],
   "source": [
    "import h5py\n",
    "import pandas as pd\n",
    "\n",
    "# HDF5ファイルを開く\n",
    "path = '/group/cmb/litebird/usr/ytakase/scan_strategy_survey/multi_dim_survey/systematics/test_230301/output_9.h5'\n",
    "with h5py.File(path, 'r') as f:\n",
    "    # argsグループからデータを取得\n",
    "    args_group = f['args']\n",
    "    spin_n = args_group['spin_n'][()]\n",
    "    spin_m = args_group['spin_m'][()]\n",
    "    lmax4likelihood = args_group['lmax4likelihood'][()]\n",
    "    rho = args_group['rho'][()]\n",
    "    chi = args_group['chi'][()]\n",
    "    hitmap = f[\"hitmap\"][:]\n",
    "    ss = {key: value[()] for key, value in args_group['ss'].items()}\n",
    "    \n",
    "    # quantifyグループからデータを取得\n",
    "    quantify_group = f['quantify']\n",
    "    n = quantify_group['n'][()]\n",
    "    m = quantify_group['m'][()]\n",
    "    mean = quantify_group['mean'][()]\n",
    "    std = quantify_group['std'][()]\n",
    "    \n",
    "    # delta_rのデータを取得\n",
    "    delta_r = f['delta_r'][()]\n",
    "    \n",
    "    # DataFrameを読み込む\n",
    "    \n",
    "#df = pd.read_hdf(path, key=\"quantify\")"
   ]
  },
  {
   "cell_type": "code",
   "execution_count": 4,
   "id": "86a5b6ec-0c4f-48de-80a1-ad279bbc64f3",
   "metadata": {},
   "outputs": [],
   "source": [
    "import h5py\n",
    "import pandas as pd\n",
    "\n",
    "# HDF5ファイルを開く\n",
    "path = '/home/cmb/yusuket/scan/calibration/revisit_output/test/output_1.h5'\n",
    "with h5py.File(path, 'r') as f:\n",
    "    ss_group = f[\"ss\"]\n",
    "    ss_data = {}\n",
    "    for key in ss_group.keys():\n",
    "        ss_data[key] = ss_group[key][()]\n",
    "    std_on_latitude = f['std_on_latitude'][:]\n",
    "    mean_revisit = f['mean_revisit'][()]"
   ]
  },
  {
   "cell_type": "code",
   "execution_count": 7,
   "id": "8721e34a-3763-40c6-93ea-caf6119979c3",
   "metadata": {},
   "outputs": [
    {
     "data": {
      "text/plain": [
       "1057451.0409168135"
      ]
     },
     "execution_count": 7,
     "metadata": {},
     "output_type": "execute_result"
    }
   ],
   "source": [
    "mean_revisit"
   ]
  },
  {
   "cell_type": "code",
   "execution_count": null,
   "id": "14fe175d-668e-49b5-8e3f-5a408ba46502",
   "metadata": {},
   "outputs": [],
   "source": []
  }
 ],
 "metadata": {
  "kernelspec": {
   "display_name": "Environment (conda_hpenv)",
   "language": "python",
   "name": "conda_hpenv"
  },
  "language_info": {
   "codemirror_mode": {
    "name": "ipython",
    "version": 3
   },
   "file_extension": ".py",
   "mimetype": "text/x-python",
   "name": "python",
   "nbconvert_exporter": "python",
   "pygments_lexer": "ipython3",
   "version": "3.8.12"
  }
 },
 "nbformat": 4,
 "nbformat_minor": 5
}
