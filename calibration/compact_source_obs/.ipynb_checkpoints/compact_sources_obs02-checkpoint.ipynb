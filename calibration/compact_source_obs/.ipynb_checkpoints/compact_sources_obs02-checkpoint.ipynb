{
 "cells": [
  {
   "cell_type": "code",
   "execution_count": 1,
   "id": "67316e03-ba2d-47b2-997e-d7871af4480d",
   "metadata": {},
   "outputs": [],
   "source": [
    "include(\"/home/cmb/yusuket/scan/functions/spin_characterisation_w_HWP.jl\")\n",
    "include(\"/home/cmb/yusuket/scan/functions/calibration.jl\")\n",
    "df = CSV.read(\"/home/cmb/yusuket/scan/functions/PCCS_broadband_pol_source_list.csv\", DataFrame);"
   ]
  },
  {
   "cell_type": "code",
   "execution_count": 2,
   "id": "1caf8a24-9172-4eed-bd05-ae6f63f1150e",
   "metadata": {},
   "outputs": [
    {
     "name": "stdout",
     "output_type": "stream",
     "text": [
      "nside                    : 128 \n",
      "duration [sec]           : 31536000.0 \n",
      "sampling rate [Hz]       : 1.0 \n",
      "alpha [deg]              : 45.0 \n",
      "beta [deg]               : 50.0 \n",
      "prec. period [min]       : 192.348\n",
      "↳ prec. rate [rpm]       : 0.005199\n",
      "spin period [min]        : 20.000\n",
      "↳ spin rate [rpm]        : 0.050000\n",
      "HWP rot. rate[rpm]       : 0.000000 \n",
      "start point              : equator \n",
      "start angle              : 3.331092 \n",
      "coordinate system        : G \n",
      "FPU                     \n",
      "↳ Det.1(θ,φ)             : (0.000, 0.000) \n"
     ]
    }
   ],
   "source": [
    "ss = gen_ScanningStrategy()\n",
    "ss.coord = \"G\"\n",
    "\n",
    "start_observation_time = \"2030-04-01T00:00:00\"\n",
    "start_obs_astroday = ap.time.Time(start_observation_time, scale=\"tdb\")\n",
    "ss.start_angle = get_start_angle(start_observation_time)\n",
    "day_of_observation = 0:1\n",
    "hit_angular_distance = deg2rad(0.5)\n",
    "show_ss(ss)"
   ]
  },
  {
   "cell_type": "code",
   "execution_count": 3,
   "id": "9d48eaa0-93e2-475a-bf55-902a6a79f915",
   "metadata": {},
   "outputs": [],
   "source": [
    "result = get_integration_time_and_attack_angle(ss, day_of_observation, df, hit_angular_distance);"
   ]
  },
  {
   "cell_type": "code",
   "execution_count": 13,
   "id": "15ab1f09-ca12-4f0b-aaa7-5aa0010f215c",
   "metadata": {},
   "outputs": [
    {
     "ename": "LoadError",
     "evalue": "HDF5.API.H5Error: Error creating file ./test/output_1.h5\nlibhdf5 Stacktrace:\n [1] \u001b[0m\u001b[1mH5F_open\u001b[22m: File accessibility/Unable to open file\n\u001b[90m     unable to truncate a file which is already open\u001b[39m\n  ⋮\n [5] \u001b[0m\u001b[1mH5Fcreate\u001b[22m: File accessibility/Unable to open file\n\u001b[90m     unable to create file\u001b[39m",
     "output_type": "error",
     "traceback": [
      "HDF5.API.H5Error: Error creating file ./test/output_1.h5\nlibhdf5 Stacktrace:\n [1] \u001b[0m\u001b[1mH5F_open\u001b[22m: File accessibility/Unable to open file\n\u001b[90m     unable to truncate a file which is already open\u001b[39m\n  ⋮\n [5] \u001b[0m\u001b[1mH5Fcreate\u001b[22m: File accessibility/Unable to open file\n\u001b[90m     unable to create file\u001b[39m",
      "",
      "Stacktrace:",
      "  [1] macro expansion",
      "    @ ~/.julia/packages/HDF5/I9NLZ/src/api/error.jl:18 [inlined]",
      "  [2] h5f_create(pathname::String, flags::UInt16, fcpl_id::HDF5.FileCreateProperties, fapl_id::HDF5.FileAccessProperties)",
      "    @ HDF5.API ~/.julia/packages/HDF5/I9NLZ/src/api/functions.jl:706",
      "  [3] h5open(filename::String, mode::String, fapl::HDF5.FileAccessProperties, fcpl::HDF5.FileCreateProperties; swmr::Bool)",
      "    @ HDF5 ~/.julia/packages/HDF5/I9NLZ/src/HDF5.jl:256",
      "  [4] h5open(filename::String, mode::String; swmr::Bool, fapl::HDF5.FileAccessProperties, fcpl::HDF5.FileCreateProperties, pv::Base.Pairs{Symbol, Union{}, Tuple{}, NamedTuple{(), Tuple{}}})",
      "    @ HDF5 ~/.julia/packages/HDF5/I9NLZ/src/HDF5.jl:280",
      "  [5] h5open(::var\"#57#59\"{calibration_output}, ::String, ::Vararg{String}; swmr::Bool, pv::Base.Pairs{Symbol, Union{}, Tuple{}, NamedTuple{(), Tuple{}}})",
      "    @ HDF5 ~/.julia/packages/HDF5/I9NLZ/src/HDF5.jl:301",
      "  [6] h5open",
      "    @ ~/.julia/packages/HDF5/I9NLZ/src/HDF5.jl:301 [inlined]",
      "  [7] create_h5_file(dir::String, n::Int64, name::String, result::calibration_output)",
      "    @ Main ~/scan/functions/calibration.jl:373",
      "  [8] top-level scope",
      "    @ In[13]:1",
      "  [9] eval",
      "    @ ./boot.jl:373 [inlined]",
      " [10] include_string(mapexpr::typeof(REPL.softscope), mod::Module, code::String, filename::String)",
      "    @ Base ./loading.jl:1196"
     ]
    }
   ],
   "source": [
    "create_h5_file(\"./\", 1, \"test\", result)\n",
    "#h5open(\"./test/output_1.h5\")\n"
   ]
  },
  {
   "cell_type": "code",
   "execution_count": 18,
   "id": "ac8eced0-38cd-4656-82ef-fac41ec765e2",
   "metadata": {},
   "outputs": [
    {
     "name": "stdout",
     "output_type": "stream",
     "text": [
      "  6.452570 seconds (39.11 M allocations: 2.258 GiB, 8.20% gc time, 50.94% compilation time)\n"
     ]
    },
    {
     "data": {
      "text/plain": [
       "Process(`\u001b[4mjulia\u001b[24m \u001b[4mget_compact_sources_observations01.jl\u001b[24m \u001b[4m2\u001b[24m`, ProcessExited(0))"
      ]
     },
     "execution_count": 18,
     "metadata": {},
     "output_type": "execute_result"
    }
   ],
   "source": [
    "run(`julia get_compact_sources_observations01.jl 1`)"
   ]
  },
  {
   "cell_type": "code",
   "execution_count": null,
   "id": "e6473ca8-a46d-4dbc-a82b-59cd7c576679",
   "metadata": {},
   "outputs": [],
   "source": []
  }
 ],
 "metadata": {
  "kernelspec": {
   "display_name": "Julia 1.7.0",
   "language": "julia",
   "name": "julia-1.7"
  },
  "language_info": {
   "file_extension": ".jl",
   "mimetype": "application/julia",
   "name": "julia",
   "version": "1.7.0"
  }
 },
 "nbformat": 4,
 "nbformat_minor": 5
}
